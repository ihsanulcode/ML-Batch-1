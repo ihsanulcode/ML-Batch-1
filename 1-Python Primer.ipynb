{
 "cells": [
  {
   "cell_type": "markdown",
   "id": "899098c3",
   "metadata": {},
   "source": [
    "# This is Python Primer"
   ]
  },
  {
   "cell_type": "code",
   "execution_count": 4,
   "id": "7a219f08",
   "metadata": {},
   "outputs": [
    {
     "name": "stdout",
     "output_type": "stream",
     "text": [
      "Hello world!\n"
     ]
    }
   ],
   "source": [
    "print(\"Hello world!\")"
   ]
  },
  {
   "cell_type": "markdown",
   "id": "9ca20987",
   "metadata": {},
   "source": [
    "## Python Comments"
   ]
  },
  {
   "cell_type": "code",
   "execution_count": 6,
   "id": "2c031524",
   "metadata": {},
   "outputs": [
    {
     "data": {
      "text/plain": [
       "'\\nThis is a multiline\\ncomment\\n'"
      ]
     },
     "execution_count": 6,
     "metadata": {},
     "output_type": "execute_result"
    }
   ],
   "source": [
    "# This is a comment\n",
    "# This is a single line comment\n",
    "\"\"\"\n",
    "This is a multiline\n",
    "comment\n",
    "\"\"\"\n"
   ]
  },
  {
   "cell_type": "code",
   "execution_count": 7,
   "id": "66785303",
   "metadata": {},
   "outputs": [
    {
     "name": "stdout",
     "output_type": "stream",
     "text": [
      "Hello python\n"
     ]
    }
   ],
   "source": [
    "print(\"Hello python\")"
   ]
  },
  {
   "cell_type": "markdown",
   "id": "a2d83d38",
   "metadata": {},
   "source": [
    "## Python Variables"
   ]
  },
  {
   "cell_type": "code",
   "execution_count": 8,
   "id": "32c31ef2",
   "metadata": {},
   "outputs": [
    {
     "name": "stdout",
     "output_type": "stream",
     "text": [
      "5\n",
      "Jon Doe\n"
     ]
    }
   ],
   "source": [
    "x = 5\n",
    "y = \"Jon Doe\"\n",
    "print(x)\n",
    "print(y)"
   ]
  },
  {
   "cell_type": "code",
   "execution_count": 10,
   "id": "0a62812e",
   "metadata": {},
   "outputs": [
    {
     "data": {
      "text/plain": [
       "int"
      ]
     },
     "execution_count": 10,
     "metadata": {},
     "output_type": "execute_result"
    }
   ],
   "source": [
    "type(x)"
   ]
  },
  {
   "cell_type": "code",
   "execution_count": 11,
   "id": "401ce09f",
   "metadata": {},
   "outputs": [
    {
     "data": {
      "text/plain": [
       "str"
      ]
     },
     "execution_count": 11,
     "metadata": {},
     "output_type": "execute_result"
    }
   ],
   "source": [
    "type(y)"
   ]
  },
  {
   "cell_type": "markdown",
   "id": "231e891c",
   "metadata": {},
   "source": [
    "## Python List"
   ]
  },
  {
   "cell_type": "code",
   "execution_count": 12,
   "id": "93051f9b",
   "metadata": {},
   "outputs": [
    {
     "data": {
      "text/plain": [
       "list"
      ]
     },
     "execution_count": 12,
     "metadata": {},
     "output_type": "execute_result"
    }
   ],
   "source": [
    "num1 = [1,2,3,4,5]\n",
    "type(num1)"
   ]
  },
  {
   "cell_type": "code",
   "execution_count": 14,
   "id": "20c337e8",
   "metadata": {},
   "outputs": [
    {
     "data": {
      "text/plain": [
       "3"
      ]
     },
     "execution_count": 14,
     "metadata": {},
     "output_type": "execute_result"
    }
   ],
   "source": [
    "num1[2]"
   ]
  },
  {
   "cell_type": "code",
   "execution_count": 16,
   "id": "25e754ce",
   "metadata": {},
   "outputs": [
    {
     "name": "stdout",
     "output_type": "stream",
     "text": [
      "5\n"
     ]
    }
   ],
   "source": [
    "print(len(num1))"
   ]
  },
  {
   "cell_type": "code",
   "execution_count": 20,
   "id": "02381cf1",
   "metadata": {},
   "outputs": [
    {
     "name": "stdout",
     "output_type": "stream",
     "text": [
      "3\n",
      "5\n"
     ]
    }
   ],
   "source": [
    "courses = [\"CSE115\",\"CSE225\",\"CSE215\"]\n",
    "print(len(courses))\n",
    "print(len(num1))"
   ]
  },
  {
   "cell_type": "code",
   "execution_count": 22,
   "id": "d4741ca0",
   "metadata": {},
   "outputs": [
    {
     "data": {
      "text/plain": [
       "5"
      ]
     },
     "execution_count": 22,
     "metadata": {},
     "output_type": "execute_result"
    }
   ],
   "source": [
    "len(courses)\n",
    "len(num1)"
   ]
  },
  {
   "cell_type": "code",
   "execution_count": 26,
   "id": "f69d3986",
   "metadata": {},
   "outputs": [
    {
     "name": "stdout",
     "output_type": "stream",
     "text": [
      "['CSE445', 445, True, 3.8]\n",
      "['CSE115', 'CSE225', 'CSE215']\n"
     ]
    }
   ],
   "source": [
    "list2 = [\"CSE445\", 445, True, 3.80]\n",
    "print(list2)\n",
    "print(courses)"
   ]
  },
  {
   "cell_type": "code",
   "execution_count": 27,
   "id": "51ba1e3f",
   "metadata": {},
   "outputs": [
    {
     "data": {
      "text/plain": [
       "['CSE115', 'CSE225', 'CSE215']"
      ]
     },
     "execution_count": 27,
     "metadata": {},
     "output_type": "execute_result"
    }
   ],
   "source": [
    "courses"
   ]
  },
  {
   "cell_type": "code",
   "execution_count": 28,
   "id": "1dec36d9",
   "metadata": {},
   "outputs": [],
   "source": [
    "courses.append(\"CSE445\")"
   ]
  },
  {
   "cell_type": "code",
   "execution_count": 29,
   "id": "ce5d2970",
   "metadata": {},
   "outputs": [
    {
     "data": {
      "text/plain": [
       "['CSE115', 'CSE225', 'CSE215', 'CSE445']"
      ]
     },
     "execution_count": 29,
     "metadata": {},
     "output_type": "execute_result"
    }
   ],
   "source": [
    "courses"
   ]
  },
  {
   "cell_type": "code",
   "execution_count": 30,
   "id": "2da8cb96",
   "metadata": {},
   "outputs": [
    {
     "data": {
      "text/plain": [
       "['CSE225', 'CSE215', 'CSE445']"
      ]
     },
     "execution_count": 30,
     "metadata": {},
     "output_type": "execute_result"
    }
   ],
   "source": [
    "courses.remove(\"CSE115\")\n",
    "courses"
   ]
  },
  {
   "cell_type": "markdown",
   "id": "ccd7d1db",
   "metadata": {},
   "source": [
    "## Python Tuples"
   ]
  },
  {
   "cell_type": "code",
   "execution_count": 31,
   "id": "394c4ce9",
   "metadata": {},
   "outputs": [
    {
     "data": {
      "text/plain": [
       "(1, 2, 3, 3)"
      ]
     },
     "execution_count": 31,
     "metadata": {},
     "output_type": "execute_result"
    }
   ],
   "source": [
    "t1 = (1,2,3,3)\n",
    "t1"
   ]
  },
  {
   "cell_type": "code",
   "execution_count": 32,
   "id": "e005a256",
   "metadata": {},
   "outputs": [
    {
     "data": {
      "text/plain": [
       "tuple"
      ]
     },
     "execution_count": 32,
     "metadata": {},
     "output_type": "execute_result"
    }
   ],
   "source": [
    "type(t1)"
   ]
  },
  {
   "cell_type": "code",
   "execution_count": 33,
   "id": "4a9ea182",
   "metadata": {},
   "outputs": [
    {
     "data": {
      "text/plain": [
       "(3, 2, 1)"
      ]
     },
     "execution_count": 33,
     "metadata": {},
     "output_type": "execute_result"
    }
   ],
   "source": [
    "t2 = (3,2,1)\n",
    "t2"
   ]
  },
  {
   "cell_type": "markdown",
   "id": "b05b652f",
   "metadata": {},
   "source": [
    "## Python Sets"
   ]
  },
  {
   "cell_type": "code",
   "execution_count": 34,
   "id": "0dd5a763",
   "metadata": {},
   "outputs": [
    {
     "data": {
      "text/plain": [
       "{1, 2, 3, 4, 5, 6}"
      ]
     },
     "execution_count": 34,
     "metadata": {},
     "output_type": "execute_result"
    }
   ],
   "source": [
    "num = {1,2,3,4,5,5,6}\n",
    "num"
   ]
  },
  {
   "cell_type": "markdown",
   "id": "e95ac2af",
   "metadata": {},
   "source": [
    "## Python Dictionaries"
   ]
  },
  {
   "cell_type": "code",
   "execution_count": 37,
   "id": "3304289b",
   "metadata": {},
   "outputs": [],
   "source": [
    "course = {\n",
    "    \"courseName\" : \"Machine Learning\",\n",
    "    \"Course Code\" : \"CSE445\",\n",
    "    \"Faculty\" : \"Dr. Sifat Momen\",\n",
    "    \"Room Number\" : \"SAC310\",\n",
    "    \"Time\" : \"9:10 AM - 10:40 AM\",\n",
    "    \"Phone\" : 12345\n",
    "}"
   ]
  },
  {
   "cell_type": "code",
   "execution_count": 40,
   "id": "861de1d6",
   "metadata": {},
   "outputs": [
    {
     "data": {
      "text/plain": [
       "{'courseName': 'Machine Learning',\n",
       " 'Course Code': 'CSE445',\n",
       " 'Faculty': 'Dr. Sifat Momen',\n",
       " 'Room Number': 'SAC310',\n",
       " 'Time': '9:10 AM - 10:40 AM',\n",
       " 'Phone': 12345}"
      ]
     },
     "execution_count": 40,
     "metadata": {},
     "output_type": "execute_result"
    }
   ],
   "source": [
    "course"
   ]
  },
  {
   "cell_type": "code",
   "execution_count": 42,
   "id": "a4e5f8ff",
   "metadata": {},
   "outputs": [
    {
     "data": {
      "text/plain": [
       "'CSE445'"
      ]
     },
     "execution_count": 42,
     "metadata": {},
     "output_type": "execute_result"
    }
   ],
   "source": [
    "course[\"Course Code\"]"
   ]
  },
  {
   "cell_type": "code",
   "execution_count": 43,
   "id": "054ecabe",
   "metadata": {},
   "outputs": [
    {
     "data": {
      "text/plain": [
       "'Dr. Sifat Momen'"
      ]
     },
     "execution_count": 43,
     "metadata": {},
     "output_type": "execute_result"
    }
   ],
   "source": [
    "course[\"Faculty\"]"
   ]
  },
  {
   "cell_type": "code",
   "execution_count": 44,
   "id": "629e9c02",
   "metadata": {},
   "outputs": [
    {
     "data": {
      "text/plain": [
       "dict_keys(['courseName', 'Course Code', 'Faculty', 'Room Number', 'Time', 'Phone'])"
      ]
     },
     "execution_count": 44,
     "metadata": {},
     "output_type": "execute_result"
    }
   ],
   "source": [
    "course.keys()"
   ]
  },
  {
   "cell_type": "code",
   "execution_count": 45,
   "id": "0a12af2e",
   "metadata": {},
   "outputs": [
    {
     "data": {
      "text/plain": [
       "dict_values(['Machine Learning', 'CSE445', 'Dr. Sifat Momen', 'SAC310', '9:10 AM - 10:40 AM', 12345])"
      ]
     },
     "execution_count": 45,
     "metadata": {},
     "output_type": "execute_result"
    }
   ],
   "source": [
    "course.values()"
   ]
  },
  {
   "cell_type": "markdown",
   "id": "e42257ac",
   "metadata": {},
   "source": [
    "## Functions in Python"
   ]
  },
  {
   "cell_type": "code",
   "execution_count": 48,
   "id": "9bf6b1e7",
   "metadata": {},
   "outputs": [
    {
     "name": "stdout",
     "output_type": "stream",
     "text": [
      "5\n"
     ]
    }
   ],
   "source": [
    "def find_largest(list):\n",
    "    max = list[0]\n",
    "    for i in list:\n",
    "        if i > max:\n",
    "            max = i\n",
    "    return max\n",
    "\n",
    "list = [2,1,3,5,1,4]\n",
    "print(find_largest(list))"
   ]
  },
  {
   "cell_type": "code",
   "execution_count": 47,
   "id": "8d5f5a82",
   "metadata": {},
   "outputs": [
    {
     "name": "stdout",
     "output_type": "stream",
     "text": [
      "5\n"
     ]
    }
   ],
   "source": [
    "list = [2,1,3,5,1,4]\n",
    "print(find_largest(list))"
   ]
  },
  {
   "cell_type": "code",
   "execution_count": 50,
   "id": "95b16e1b",
   "metadata": {},
   "outputs": [
    {
     "name": "stdout",
     "output_type": "stream",
     "text": [
      "1\n",
      "2\n",
      "3\n",
      "4\n",
      "5\n"
     ]
    }
   ],
   "source": [
    "for i in range(1,6):\n",
    "    print(i)"
   ]
  },
  {
   "cell_type": "code",
   "execution_count": 51,
   "id": "413bf0ce",
   "metadata": {},
   "outputs": [
    {
     "name": "stdout",
     "output_type": "stream",
     "text": [
      "6\n"
     ]
    }
   ],
   "source": [
    "# Write a function in python to to compute factorial!\n",
    "\n",
    "def factorial(n):\n",
    "    temp = 1\n",
    "    for i in range(1,n+1):\n",
    "        temp *= i\n",
    "    return temp\n",
    "\n",
    "print(factorial(3))"
   ]
  },
  {
   "cell_type": "code",
   "execution_count": null,
   "id": "9d07350d",
   "metadata": {},
   "outputs": [],
   "source": []
  }
 ],
 "metadata": {
  "kernelspec": {
   "display_name": "Python 3 (ipykernel)",
   "language": "python",
   "name": "python3"
  },
  "language_info": {
   "codemirror_mode": {
    "name": "ipython",
    "version": 3
   },
   "file_extension": ".py",
   "mimetype": "text/x-python",
   "name": "python",
   "nbconvert_exporter": "python",
   "pygments_lexer": "ipython3",
   "version": "3.9.13"
  }
 },
 "nbformat": 4,
 "nbformat_minor": 5
}
