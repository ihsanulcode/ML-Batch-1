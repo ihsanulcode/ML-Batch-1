{
 "cells": [
  {
   "cell_type": "markdown",
   "id": "224501ab",
   "metadata": {},
   "source": [
    "# Handling Outliers"
   ]
  },
  {
   "cell_type": "code",
   "execution_count": 2,
   "id": "d4c43b3d",
   "metadata": {},
   "outputs": [],
   "source": [
    "import pandas as pd\n",
    "import numpy as np\n",
    "import seaborn as sns\n",
    "from matplotlib import pyplot as plt\n",
    "%matplotlib inline"
   ]
  },
  {
   "cell_type": "code",
   "execution_count": 3,
   "id": "fd4b8dff",
   "metadata": {},
   "outputs": [],
   "source": [
    "# Load dataset\n",
    "df = pd.read_csv('diabetes_prediction_dataset.csv')"
   ]
  },
  {
   "cell_type": "code",
   "execution_count": 4,
   "id": "8fe0b471",
   "metadata": {},
   "outputs": [
    {
     "name": "stdout",
     "output_type": "stream",
     "text": [
      "<class 'pandas.core.frame.DataFrame'>\n",
      "RangeIndex: 100000 entries, 0 to 99999\n",
      "Data columns (total 9 columns):\n",
      " #   Column               Non-Null Count   Dtype  \n",
      "---  ------               --------------   -----  \n",
      " 0   gender               100000 non-null  object \n",
      " 1   age                  100000 non-null  float64\n",
      " 2   hypertension         100000 non-null  int64  \n",
      " 3   heart_disease        100000 non-null  int64  \n",
      " 4   smoking_history      100000 non-null  object \n",
      " 5   bmi                  100000 non-null  float64\n",
      " 6   HbA1c_level          100000 non-null  float64\n",
      " 7   blood_glucose_level  100000 non-null  int64  \n",
      " 8   diabetes             100000 non-null  int64  \n",
      "dtypes: float64(3), int64(4), object(2)\n",
      "memory usage: 6.9+ MB\n"
     ]
    }
   ],
   "source": [
    "df.info()"
   ]
  },
  {
   "cell_type": "markdown",
   "id": "ab1ce3bf",
   "metadata": {},
   "source": [
    "## Outliers Detection"
   ]
  },
  {
   "cell_type": "code",
   "execution_count": 6,
   "id": "7f244a9a",
   "metadata": {},
   "outputs": [
    {
     "data": {
      "text/plain": [
       "Text(0.5, 0, 'BMI')"
      ]
     },
     "execution_count": 6,
     "metadata": {},
     "output_type": "execute_result"
    },
    {
     "data": {
      "image/png": "[encoded data removed]",
      "text/plain": [
       "<Figure size 640x480 with 1 Axes>"
      ]
     },
     "metadata": {},
     "output_type": "display_data"
    }
   ],
   "source": [
    "# Boxplot\n",
    "sns.boxplot(x=df.bmi)\n",
    "plt.xlabel('BMI')"
   ]
  },
  {
   "cell_type": "code",
   "execution_count": 7,
   "id": "f7325e81",
   "metadata": {},
   "outputs": [
    {
     "data": {
      "image/png": "[encoded data removed]",
      "text/plain": [
       "<Figure size 800x500 with 1 Axes>"
      ]
     },
     "metadata": {},
     "output_type": "display_data"
    }
   ],
   "source": [
    "# Set the plot figure\n",
    "plt.figure(figsize=(8,5))\n",
    "# Boxplot\n",
    "sns.boxplot(x=df['blood_glucose_level'])\n",
    "plt.xlabel(\"Blood_glucose_level\")\n",
    "plt.show()"
   ]
  },
  {
   "cell_type": "code",
   "execution_count": 8,
   "id": "f1dd4107",
   "metadata": {},
   "outputs": [],
   "source": [
    "def count_outliers(dataframe, column_name):\n",
    "    column_data = dataframe[column_name]\n",
    "    \n",
    "    q1 = column_data.quantile(0.25)\n",
    "    q3 = column_data.quantile(0.75)\n",
    "    iqr = q3 - q1\n",
    "    lower_bound = q1 - 1.5*iqr\n",
    "    upper_bound = q3 + 1.5*iqr\n",
    "    \n",
    "    outliers = column_data[(column_data<lower_bound) | (column_data>upper_bound)]\n",
    "    return len(outliers)"
   ]
  },
  {
   "cell_type": "code",
   "execution_count": 10,
   "id": "2be2344a",
   "metadata": {},
   "outputs": [
    {
     "name": "stdout",
     "output_type": "stream",
     "text": [
      "age\n",
      "Number of outliers: 0 out of 100000\n",
      "HbA1c_level\n",
      "Number of outliers: 1315 out of 100000\n",
      "blood_glucose_level\n",
      "Number of outliers: 2038 out of 100000\n",
      "bmi\n",
      "Number of outliers: 7086 out of 100000\n"
     ]
    }
   ],
   "source": [
    "attributes = ['age', 'HbA1c_level', 'blood_glucose_level', 'bmi']\n",
    "\n",
    "for attribute in attributes:\n",
    "    count = count_outliers(df, attribute)\n",
    "    print(attribute)\n",
    "    print('Number of outliers:',count,'out of',len(df[attribute]))"
   ]
  },
  {
   "cell_type": "markdown",
   "id": "9e87231f",
   "metadata": {},
   "source": [
    "## Remove Outliers "
   ]
  },
  {
   "cell_type": "code",
   "execution_count": 11,
   "id": "33775e7b",
   "metadata": {},
   "outputs": [],
   "source": [
    "def remove_outliers(dataFrame, column_name):\n",
    "    column_data = dataFrame[column_name]\n",
    "    q1 = column_data.quantile(0.25)\n",
    "    q3 = column_data.quantile(0.75)\n",
    "    iqr = q3-q1\n",
    "    \n",
    "    lower_bound = q1 - 1.5 * iqr\n",
    "    upper_bound = q3 + 1.5 * iqr\n",
    "    \n",
    "    filtered_df = dataFrame[(column_data >= lower_bound) & (column_data <= upper_bound)]\n",
    "    return filtered_df"
   ]
  },
  {
   "cell_type": "code",
   "execution_count": 12,
   "id": "858d3eb8",
   "metadata": {},
   "outputs": [
    {
     "name": "stdout",
     "output_type": "stream",
     "text": [
      "Original df: (100000, 9)\n",
      "Df shape after removing outlier: (92914, 9)\n"
     ]
    }
   ],
   "source": [
    "outlier_removed_df = remove_outliers(df,'bmi')\n",
    "print(\"Original df:\",df.shape)\n",
    "print(\"Df shape after removing outlier:\",outlier_removed_df.shape)"
   ]
  },
  {
   "cell_type": "code",
   "execution_count": 13,
   "id": "a0198fff",
   "metadata": {},
   "outputs": [
    {
     "name": "stdout",
     "output_type": "stream",
     "text": [
      "Original df: (100000, 9)\n",
      "Df shape after removing outlier: (98685, 9)\n"
     ]
    }
   ],
   "source": [
    "outlier_removed_df = remove_outliers(df,'HbA1c_level')\n",
    "print(\"Original df:\",df.shape)\n",
    "print(\"Df shape after removing outlier:\",outlier_removed_df.shape)"
   ]
  },
  {
   "cell_type": "code",
   "execution_count": null,
   "id": "19c45f47",
   "metadata": {},
   "outputs": [],
   "source": [
    "# df = outlier_removed_df"
   ]
  }
 ],
 "metadata": {
  "kernelspec": {
   "display_name": "Python 3 (ipykernel)",
   "language": "python",
   "name": "python3"
  },
  "language_info": {
   "codemirror_mode": {
    "name": "ipython",
    "version": 3
   },
   "file_extension": ".py",
   "mimetype": "text/x-python",
   "name": "python",
   "nbconvert_exporter": "python",
   "pygments_lexer": "ipython3",
   "version": "3.9.13"
  }
 },
 "nbformat": 4,
 "nbformat_minor": 5
}
