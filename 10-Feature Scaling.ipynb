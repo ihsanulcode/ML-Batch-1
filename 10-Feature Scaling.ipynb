{
 "cells": [
  {
   "cell_type": "markdown",
   "id": "73b723f0",
   "metadata": {},
   "source": [
    "# Feature scaling\n",
    "Feature scaling is a specific type of data transformation that focuses on adjusting the scale or range of the individual features (variables) within your dataset. The goal of feature scaling is to ensure that all features have similar scales, which can help improve the performance of many machine learning algorithms.\n",
    "\n",
    "\n",
    "\n",
    "Some common methods for feature scaling:\n",
    "\n",
    "1. Min-Max Scaling (Normalization)\n",
    "* Scale features to a specific range, usually between 0 and 1.\n",
    "* Formula: **X_normalized = (X - X_min) / (X_max - X_min)**\n",
    "* Use MinMaxScaler from scikit-learn or implement it manually.\n",
    "2. Standardization\n",
    "* Scale features to have a mean of 0 and a standard deviation of 1.\n",
    "* Formula: **X_standardized = (X - X_mean) / X_std_dev**\n",
    "* Use StandardScaler from scikit-learn or implement it manually."
   ]
  },
  {
   "cell_type": "code",
   "execution_count": null,
   "id": "62e13e1e",
   "metadata": {},
   "outputs": [],
   "source": []
  }
 ],
 "metadata": {
  "kernelspec": {
   "display_name": "Python 3 (ipykernel)",
   "language": "python",
   "name": "python3"
  },
  "language_info": {
   "codemirror_mode": {
    "name": "ipython",
    "version": 3
   },
   "file_extension": ".py",
   "mimetype": "text/x-python",
   "name": "python",
   "nbconvert_exporter": "python",
   "pygments_lexer": "ipython3",
   "version": "3.9.13"
  }
 },
 "nbformat": 4,
 "nbformat_minor": 5
}
